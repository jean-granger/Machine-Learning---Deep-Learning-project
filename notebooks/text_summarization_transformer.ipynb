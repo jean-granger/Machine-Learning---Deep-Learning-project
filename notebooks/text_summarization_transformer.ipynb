{
 "cells": [
  {
   "cell_type": "markdown",
   "metadata": {},
   "source": [
    "# Text Summarization with Transformers (BART Model)\n",
    "\n",
    "This notebook demonstrates how to use a pre-trained model to summarize long text passages."
   ]
  },
  {
   "cell_type": "code",
   "execution_count": null,
   "metadata": {},
   "outputs": [],
   "source": [
    "from transformers import pipeline\n",
    "import textwrap\n",
    "\n",
    "summarizer = pipeline(\"summarization\", model=\"facebook/bart-large-cnn\")\n",
    "print(\"Summarizer ready!\")"
   ]
  },
  {
   "cell_type": "code",
   "execution_count": null,
   "metadata": {},
   "outputs": [],
   "source": [
    "text = \"\"\"\n",
    "Artificial intelligence (AI) has become one of the most transformative technologies in recent years.\n",
    "From healthcare and education to finance and transportation, AI systems are now capable of performing\n",
    "tasks that once required human intelligence. These include understanding natural language, recognizing\n",
    "images, making predictions, and even creating original content. Despite these advances, challenges such\n",
    "as data privacy, algorithmic bias, and explainability continue to shape how AI is developed and deployed.\n",
    "As researchers and organizations work toward responsible AI, the focus is shifting from building more\n",
    "complex models to ensuring that these systems are fair, transparent, and beneficial for society as a whole.\n",
    "\"\"\"\n",
    "\n",
    "summary = summarizer(text, max_length=80, min_length=30, do_sample=False)\n",
    "\n",
    "print(\"\\n**Original Text:**\\n\")\n",
    "print(textwrap.fill(text, width=100))\n",
    "\n",
    "print(\"\\n**Generated Summary:**\\n\")\n",
    "print(textwrap.fill(summary[0]['summary_text'], width=100))"
   ]
  },
  {
   "cell_type": "code",
   "execution_count": null,
   "metadata": {},
   "outputs": [],
   "source": [
    "original_len = len(text.split())\n",
    "summary_len = len(summary[0]['summary_text'].split())\n",
    "\n",
    "print(f\"\\nOriginal length: {original_len} words\")\n",
    "print(f\"Summary length:  {summary_len} words\")\n",
    "print(f\"Compression ratio: {round(summary_len/original_len*100, 2)}%\")"
   ]
  }
 ],
 "metadata": {
  "kernelspec": {
   "display_name": "Python 3",
   "language": "python",
   "name": "python3"
  },
  "language_info": {
   "name": "python",
   "version": "3.13"
  }
 },
 "nbformat": 4,
 "nbformat_minor": 5
}
