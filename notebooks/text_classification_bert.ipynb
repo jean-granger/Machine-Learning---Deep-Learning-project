{
 "cells": [
  {
   "cell_type": "markdown",
   "metadata": {},
   "source": [
    "# Text Classification with DistilBERT (IMDB Sentiment Analysis)"
   ]
  },
  {
   "cell_type": "code",
   "execution_count": null,
   "metadata": {},
   "outputs": [],
   "source": [
    "from transformers import AutoTokenizer, AutoModelForSequenceClassification, Trainer, TrainingArguments\n",
    "from datasets import load_dataset\n",
    "import numpy as np\n",
    "from sklearn.metrics import accuracy_score, precision_recall_fscore_support\n",
    "import inspect\n",
    "\n",
    "print(\"Transformers version:\", __import__('transformers').__version__)\n",
    "print(\"TrainingArguments from:\", TrainingArguments.__module__)"
   ]
  },
  {
   "cell_type": "code",
   "execution_count": null,
   "metadata": {},
   "outputs": [],
   "source": [
    "dataset = load_dataset(\"imdb\")\n",
    "print(dataset)"
   ]
  },
  {
   "cell_type": "code",
   "execution_count": null,
   "metadata": {},
   "outputs": [],
   "source": [
    "tokenizer = AutoTokenizer.from_pretrained(\"distilbert-base-uncased\")\n",
    "\n",
    "def tokenize_function(example):\n",
    "    return tokenizer(example[\"text\"], truncation=True, padding=\"max_length\", max_length=256)\n",
    "\n",
    "tokenized_datasets = dataset.map(tokenize_function, batched=True)\n",
    "tokenized_datasets = tokenized_datasets.rename_column(\"label\", \"labels\")\n",
    "tokenized_datasets.set_format(\"torch\")\n",
    "\n",
    "small_train = tokenized_datasets[\"train\"].shuffle(seed=42).select(range(2000))\n",
    "small_test = tokenized_datasets[\"test\"].shuffle(seed=42).select(range(1000))"
   ]
  },
  {
   "cell_type": "code",
   "execution_count": null,
   "metadata": {},
   "outputs": [],
   "source": [
    "model = AutoModelForSequenceClassification.from_pretrained(\"distilbert-base-uncased\", num_labels=2)"
   ]
  },
  {
   "cell_type": "code",
   "execution_count": null,
   "metadata": {},
   "outputs": [],
   "source": [
    "def compute_metrics(eval_pred):\n",
    "    logits, labels = eval_pred\n",
    "    predictions = np.argmax(logits, axis=-1)\n",
    "    precision, recall, f1, _ = precision_recall_fscore_support(labels, predictions, average=\"binary\")\n",
    "    acc = accuracy_score(labels, predictions)\n",
    "    return {\"accuracy\": acc, \"f1\": f1, \"precision\": precision, \"recall\": recall}"
   ]
  },
  {
   "cell_type": "code",
   "execution_count": null,
   "metadata": {},
   "outputs": [],
   "source": [
    "sig = inspect.signature(TrainingArguments)\n",
    "print(\"Supported TrainingArguments keys:\", list(sig.parameters.keys()))\n",
    "\n",
    "desired = {\n",
    "    \"output_dir\": \"./results\",\n",
    "    \"evaluation_strategy\": \"epoch\",\n",
    "    \"save_strategy\": \"epoch\",\n",
    "    \"num_train_epochs\": 1,\n",
    "    \"per_device_train_batch_size\": 8,\n",
    "    \"per_device_eval_batch_size\": 8,\n",
    "    \"save_total_limit\": 1,\n",
    "    \"logging_dir\": \"./logs\",\n",
    "    \"logging_steps\": 50,\n",
    "    \"learning_rate\": 2e-5,\n",
    "    \"weight_decay\": 0.01\n",
    "}\n",
    "\n",
    "supported_kwargs = {k: v for k, v in desired.items() if k in sig.parameters}\n",
    "print(\"Using TrainingArguments:\", supported_kwargs)\n",
    "\n",
    "training_args = TrainingArguments(**supported_kwargs)"
   ]
  },
  {
   "cell_type": "code",
   "execution_count": null,
   "metadata": {},
   "outputs": [],
   "source": [
    "trainer = Trainer(\n",
    "    model=model,\n",
    "    args=training_args,\n",
    "    train_dataset=small_train,\n",
    "    eval_dataset=small_test,\n",
    "    compute_metrics=compute_metrics\n",
    ")\n",
    "\n",
    "print(\"Training started.\")\n",
    "train_result = trainer.train()\n",
    "print(\"Training finished.\")\n",
    "\n",
    "if hasattr(train_result, \"metrics\"):\n",
    "    print(\"Training metrics:\", train_result.metrics)\n",
    "\n",
    "print(\"Evaluating on test set.\")\n",
    "metrics = trainer.evaluate(eval_dataset=small_test)\n",
    "print(\"Evaluation metrics:\", metrics)"
   ]
  },
  {
   "cell_type": "code",
   "execution_count": null,
   "metadata": {},
   "outputs": [],
   "source": [
    "import matplotlib.pyplot as plt\n",
    "from transformers.training_args import TrainingArguments\n",
    "\n",
    "if hasattr(trainer, \"state\") and trainer.state.log_history:\n",
    "    logs = trainer.state.log_history\n",
    "    train_loss = [x[\"loss\"] for x in logs if \"loss\" in x]\n",
    "    eval_loss = [x[\"eval_loss\"] for x in logs if \"eval_loss\" in x]\n",
    "    eval_acc = [x[\"eval_accuracy\"] for x in logs if \"eval_accuracy\" in x]\n",
    "\n",
    "    plt.figure(figsize=(10,4))\n",
    "    plt.plot(train_loss, label=\"Training Loss\")\n",
    "    plt.plot(eval_loss, label=\"Validation Loss\")\n",
    "    plt.xlabel(\"Step\")\n",
    "    plt.ylabel(\"Loss\")\n",
    "    plt.title(\"Training vs Validation Loss\")\n",
    "    plt.legend()\n",
    "    plt.show()\n",
    "\n",
    "    plt.figure(figsize=(6,4))\n",
    "    plt.plot(eval_acc, marker=\"o\", label=\"Validation Accuracy\", color=\"green\")\n",
    "    plt.xlabel(\"Epoch\")\n",
    "    plt.ylabel(\"Accuracy\")\n",
    "    plt.title(\"Validation Accuracy over Epochs\")\n",
    "    plt.legend()\n",
    "    plt.show()\n",
    "else:\n",
    "    print(\"No log history found to plot.\")"
   ]
  },
  {
   "cell_type": "code",
   "execution_count": null,
   "metadata": {},
   "outputs": [],
   "source": [
    "model.save_pretrained(\"./distilbert_imdb_sentiment\")\n",
    "tokenizer.save_pretrained(\"./distilbert_imdb_sentiment\")\n",
    "print(\"Model and tokenizer saved successfully at './distilbert_imdb_sentiment'\")"
   ]
  },
  {
   "cell_type": "code",
   "execution_count": null,
   "metadata": {},
   "outputs": [],
   "source": [
    "from transformers import AutoTokenizer, AutoModelForSequenceClassification\n",
    "import torch\n",
    "\n",
    "model_path = \"./distilbert_imdb_sentiment\"\n",
    "tokenizer = AutoTokenizer.from_pretrained(model_path)\n",
    "model = AutoModelForSequenceClassification.from_pretrained(model_path)\n",
    "\n",
    "texts = [\n",
    "    \"This movie was absolutely fantastic! The acting was brilliant and the story was touching.\",\n",
    "    \"I didn’t like the movie. The plot was boring and the characters were flat.\",\n",
    "    \"It was okay, not the best film but not terrible either.\"\n",
    "]\n",
    "\n",
    "inputs = tokenizer(texts, return_tensors=\"pt\", padding=True, truncation=True)\n",
    "\n",
    "with torch.no_grad():\n",
    "    outputs = model(**inputs)\n",
    "    predictions = torch.nn.functional.softmax(outputs.logits, dim=-1)\n",
    "\n",
    "labels = [\"Negative\", \"Positive\"]\n",
    "for text, pred in zip(texts, predictions):\n",
    "    sentiment = labels[pred.argmax().item()]\n",
    "    confidence = pred.max().item()\n",
    "    print(f\"Review: {text}\\n→ Sentiment: {sentiment} ({confidence:.2f} confidence)\\n\")"
   ]
  }
 ],
 "metadata": {
  "kernelspec": {
   "display_name": "Python 3",
   "language": "python",
   "name": "python3"
  },
  "language_info": {
   "name": "python",
   "version": "3.13"
  }
 },
 "nbformat": 4,
 "nbformat_minor": 5
}
